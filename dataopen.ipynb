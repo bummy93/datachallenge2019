{
 "cells": [
  {
   "cell_type": "code",
   "execution_count": 1,
   "metadata": {
    "colab": {},
    "colab_type": "code",
    "id": "Lkd6vXwXRh6e"
   },
   "outputs": [],
   "source": [
    "import pandas as pd\n",
    "import numpy as np\n",
    "from shapely.geometry import mapping, Polygon, shape\n",
    "import json\n",
    "import collections\n",
    "from tqdm import tqdm\n",
    "import datetime\n",
    "from sklearn.ensemble import RandomForestRegressor"
   ]
  },
  {
   "cell_type": "markdown",
   "metadata": {},
   "source": [
    "# A predictive model to maximize Taxi Driver revenue in NYC"
   ]
  },
  {
   "cell_type": "markdown",
   "metadata": {
    "colab_type": "text",
    "id": "9A7SHISURh6l"
   },
   "source": [
    "## Loading Trip Data\n",
    "For the sake of attepting this challenge within the given amount of time, we only loaded data for gree taxi trips in 2014. However, all the code below extends without loss in generalization to data from other years"
   ]
  },
  {
   "cell_type": "code",
   "execution_count": 5,
   "metadata": {
    "colab": {},
    "colab_type": "code",
    "id": "YqEv6shoRh6v"
   },
   "outputs": [
    {
     "data": {
      "text/plain": [
       "(1583731, 7)"
      ]
     },
     "execution_count": 5,
     "metadata": {},
     "output_type": "execute_result"
    }
   ],
   "source": [
    "# load the raw data, randomly pick a 10% subsample, and transform the data type of 'pickup_datetime'\n",
    "trips_green_2014 = pd.read_csv('data/green_trips.csv')\n",
    "trips_green_2014 = trips_green_2014.loc[np.random.random(trips_green_2014.shape[0])<0.1,:]\n",
    "trips_green_2014 = trips_green_2014.loc[:,['pickup_datetime','dropoff_datetime','Pickup_longitude',\n",
    "                                           'Pickup_latitude','Dropoff_longitude','Dropoff_latitude',\n",
    "                                           'Total_amount']]\n",
    "trips_green_2014.columns = ['pickup_datetime','dropoff_datetime','pickup_longitude','pickup_latitude','dropoff_longitude','dropoff_latitude','total_amount']\n",
    "trips_green_2014.pickup_datetime = pd.to_datetime(trips_green_2014.pickup_datetime)\n",
    "trips_green_2014.shape"
   ]
  },
  {
   "cell_type": "markdown",
   "metadata": {
    "colab_type": "text",
    "id": "DkhLjhKkRh6_"
   },
   "source": [
    "## Create a mapping between pickup/dropoff coordinates and NTAs"
   ]
  },
  {
   "cell_type": "code",
   "execution_count": 6,
   "metadata": {
    "colab": {},
    "colab_type": "code",
    "id": "kEBPMaPtRh7D"
   },
   "outputs": [],
   "source": [
    "# just some utility functions for the data wrangling\n",
    "def get_nta(lat, lon, nta_shapefiles):\n",
    "    \"\"\"\n",
    "    given latitude, longitude and a dictionary of shapefiles,\n",
    "    return the corresponding NTA\n",
    "    \"\"\"\n",
    "    point = shape({'coordinates': [lat, lon], 'type':'Point'})\n",
    "    \n",
    "    for nta_code, nta_data in nta_shapefiles.items():\n",
    "        if nta_data['shapefile'].contains(point):\n",
    "            return nta_code\n",
    "    return None\n",
    "\n",
    "def datetime_to_tod(_datetime):\n",
    "    \"\"\"\n",
    "    Transform a given datetime into a time-of-day bin on a scale between 0 and 143\n",
    "    i.e. every one of 24 hours is sliced into 6 bins\n",
    "    \"\"\"\n",
    "    return int(_datetime.hour)*6 + int(_datetime.minute / 10)"
   ]
  },
  {
   "cell_type": "code",
   "execution_count": 7,
   "metadata": {
    "colab": {},
    "colab_type": "code",
    "id": "O0PxVoHhRh6i"
   },
   "outputs": [],
   "source": [
    "# load geo-fences for NYC NTAs as a shapefile. The shapefile is available through\n",
    "# https://www1.nyc.gov/site/planning/data-maps/open-data/dwn-nynta.page\n",
    "with open('data/nta.json') as json_file:\n",
    "    ntas_raw = json.load(json_file)"
   ]
  },
  {
   "cell_type": "code",
   "execution_count": 8,
   "metadata": {
    "colab": {},
    "colab_type": "code",
    "id": "hD17OZsaRh7A"
   },
   "outputs": [],
   "source": [
    "# build a dictionary that contains a shapefile and meta information for every NTA\n",
    "nta_shapefiles = collections.defaultdict(dict)\n",
    "for nta_district in ntas_raw['features']:\n",
    "    nta_code = nta_district['properties']['NTACode']\n",
    "    borough_name = nta_district['properties']['BoroName']\n",
    "    borough_code = nta_district['properties']['BoroCode']\n",
    "    geometry = nta_district['geometry']\n",
    "    shapefile = shape(geometry)\n",
    "    nta_shapefiles[nta_code] = {'borough_name': borough_name,\n",
    "                               'borough_code': borough_code,\n",
    "                               'shapefile':shapefile}"
   ]
  },
  {
   "cell_type": "code",
   "execution_count": 9,
   "metadata": {
    "colab": {
     "base_uri": "https://localhost:8080/",
     "height": 394
    },
    "colab_type": "code",
    "id": "RCXlKPg4Rh7H",
    "outputId": "0b446e64-0cc5-4653-fbaa-0bdbac0ca5c7"
   },
   "outputs": [
    {
     "name": "stderr",
     "output_type": "stream",
     "text": [
      "1583731it [1:05:22, 403.74it/s]\n"
     ]
    }
   ],
   "source": [
    "pickup_ntas = []\n",
    "dropoff_ntas = []\n",
    "pickup_tods = []\n",
    "dropoff_dows = []\n",
    "\n",
    "# iterate through the entire dataset to determine NTAs for pickup and dropoff locations,\n",
    "# as well as the time-of-day and day-of-week equivalent to the pickup time\n",
    "for _, trip_data in tqdm(trips_green_2014.iterrows()):\n",
    "    pickup_lat = trip_data.pickup_longitude\n",
    "    pickup_lon = trip_data.pickup_latitude\n",
    "    dropoff_lat = trip_data.dropoff_longitude\n",
    "    dropoff_lon = trip_data.dropoff_latitude\n",
    "    pickup_datetime = trip_data.pickup_datetime\n",
    "    pickup_tod = datetime_to_tod(pickup_datetime)\n",
    "    pickup_dow = pickup_datetime.weekday()\n",
    "    \n",
    "    pickup_tods.append(pickup_tod)\n",
    "    dropoff_dows.append(pickup_dow)    \n",
    "    \n",
    "    pickup_ntas.append(get_nta(pickup_lat, pickup_lon, nta_shapefiles))\n",
    "    dropoff_ntas.append(get_nta(dropoff_lat, dropoff_lon, nta_shapefiles))\n",
    "    \n",
    "trips_green_2014['pickup_nta'] = pickup_ntas\n",
    "trips_green_2014['dropoff_nta'] = dropoff_ntas\n",
    "trips_green_2014['pickup_tod'] = pickup_tods\n",
    "trips_green_2014['pickup_dow'] = dropoff_dows\n",
    "trips_green_2014.to_csv('data/gree_trips_2014.csv')"
   ]
  },
  {
   "cell_type": "markdown",
   "metadata": {},
   "source": [
    "## Clean up the data and set apart a test set\n",
    "Some trips that cound not be matched to an NTA have to be removed from the data set. After that, data from the most recent 30 days is set apart to test the final model."
   ]
  },
  {
   "cell_type": "code",
   "execution_count": 10,
   "metadata": {
    "colab": {},
    "colab_type": "code",
    "id": "xKWQhkjkimR_"
   },
   "outputs": [],
   "source": [
    "# remove null values\n",
    "nan_filter = pd.isnull(trips_green_2014).sum(axis=1) == 0\n",
    "trips_green_2014_fare = trips_green_2014.loc[nan_filter, :]\n",
    "trips_green_2014_fare = pd.get_dummies(trips_green_2014_fare.loc[:,['pickup_nta']])\n",
    "nta_labels = [i[2] for i in trips_green_2014_fare.columns.str.split('_') if len(i) == 3]\n",
    "trips_green_2014_fare['pickup_tod'] = trips_green_2014.pickup_tod\n",
    "trips_green_2014_fare['pickup_dow'] = trips_green_2014.pickup_dow\n",
    "trips_green_2014_fare['fare'] = trips_green_2014.total_amount\n",
    "trips_green_2014_fare['pickup_nta'] = trips_green_2014.loc[nan_filter,:].pickup_nta\n",
    "trips_green_2014_fare['pickup_datetime'] = trips_green_2014.loc[nan_filter,:].pickup_datetime"
   ]
  },
  {
   "cell_type": "code",
   "execution_count": 11,
   "metadata": {
    "colab": {},
    "colab_type": "code",
    "id": "poWF9Lm-3amT"
   },
   "outputs": [],
   "source": [
    "# set apart a test data set\n",
    "train_filter = trips_green_2014.pickup_datetime <= trips_green_2014.pickup_datetime.max() - datetime.timedelta(days=30)\n",
    "Y_fares_train = np.array(trips_green_2014_fare.loc[train_filter,:].fare).reshape(-1,1)\n",
    "X_fares_train = np.array(trips_green_2014_fare.loc[train_filter, ~trips_green_2014_fare.columns.isin(['fare','pickup_nta','pickup_datetime'])])\n",
    "trip_table_test = trips_green_2014_fare.loc[~train_filter, :]"
   ]
  },
  {
   "cell_type": "markdown",
   "metadata": {},
   "source": [
    "## Build an train a Random Forrest Regression model"
   ]
  },
  {
   "cell_type": "code",
   "execution_count": 12,
   "metadata": {
    "colab": {},
    "colab_type": "code",
    "id": "KDXlmgoO3oPX"
   },
   "outputs": [],
   "source": [
    "m_fare = RandomForestRegressor(n_estimators = 10)"
   ]
  },
  {
   "cell_type": "code",
   "execution_count": 13,
   "metadata": {
    "colab": {
     "base_uri": "https://localhost:8080/",
     "height": 190
    },
    "colab_type": "code",
    "id": "2OWw-bKF3qtt",
    "outputId": "2c10e1b5-6c76-4fda-806f-c6b0a899d62b"
   },
   "outputs": [
    {
     "name": "stderr",
     "output_type": "stream",
     "text": [
      "/Users/Simon/anaconda3/envs/uberchallenge2019/lib/python3.7/site-packages/ipykernel_launcher.py:1: DataConversionWarning: A column-vector y was passed when a 1d array was expected. Please change the shape of y to (n_samples,), for example using ravel().\n",
      "  \"\"\"Entry point for launching an IPython kernel.\n"
     ]
    },
    {
     "data": {
      "text/plain": [
       "RandomForestRegressor(bootstrap=True, criterion='mse', max_depth=None,\n",
       "                      max_features='auto', max_leaf_nodes=None,\n",
       "                      min_impurity_decrease=0.0, min_impurity_split=None,\n",
       "                      min_samples_leaf=1, min_samples_split=2,\n",
       "                      min_weight_fraction_leaf=0.0, n_estimators=10,\n",
       "                      n_jobs=None, oob_score=False, random_state=None,\n",
       "                      verbose=0, warm_start=False)"
      ]
     },
     "execution_count": 13,
     "metadata": {},
     "output_type": "execute_result"
    }
   ],
   "source": [
    "m_fare.fit(X_fares_train, Y_fares_train)"
   ]
  },
  {
   "cell_type": "markdown",
   "metadata": {},
   "source": [
    "## Simulate the model on the test data"
   ]
  },
  {
   "cell_type": "code",
   "execution_count": 14,
   "metadata": {
    "colab": {
     "base_uri": "https://localhost:8080/",
     "height": 1000
    },
    "colab_type": "code",
    "id": "z_SXZ6YR3-v5",
    "outputId": "667736b9-bcb4-42c5-b8df-af8adc5fc90b"
   },
   "outputs": [
    {
     "name": "stdout",
     "output_type": "stream",
     "text": [
      "Offered fare: 13.0\n",
      "Expected fare: 13.722642042342883\n",
      "Max fare: 19.25\n",
      "Offered fare: 9.0\n",
      "Expected fare: 14.440394397759103\n",
      "Max fare: 16.5\n",
      "Offered fare: 18.5\n",
      "Expected fare: 14.475238095238094\n",
      "Max fare: 9.0\n",
      "Offered fare: 6.0\n",
      "Expected fare: 10.85939393939394\n",
      "Max fare: 57.83\n",
      "Offered fare: 8.0\n",
      "Expected fare: 12.779076923076923\n",
      "Max fare: 43.4\n",
      "Offered fare: 38.0\n",
      "Expected fare: 12.560641977671454\n",
      "Max fare: 16.12\n",
      "Offered fare: 22.1\n",
      "Expected fare: 14.493547368421053\n",
      "Max fare: 38.4\n",
      "Offered fare: 5.5\n",
      "Expected fare: 12.577500000000002\n",
      "Max fare: 14.9\n",
      "Offered fare: 4.5\n",
      "Expected fare: 12.109851674641147\n",
      "Max fare: 69.38\n",
      "Offered fare: 24.5\n",
      "Expected fare: 12.924749922191097\n",
      "Max fare: 8.5\n",
      "Offered fare: 7.0\n",
      "Expected fare: 12.61627261072261\n",
      "Max fare: 18.0\n",
      "Offered fare: 13.5\n",
      "Expected fare: 12.239820261437908\n",
      "Max fare: 32.0\n",
      "Offered fare: 7.5\n",
      "Expected fare: 13.203720365418894\n",
      "Max fare: 14.5\n",
      "Offered fare: 23.62\n",
      "Expected fare: 14.60663888888889\n",
      "Max fare: 10.7\n",
      "Offered fare: 19.0\n",
      "Expected fare: 12.25853347310584\n",
      "Max fare: 34.1\n",
      "Offered fare: 8.0\n",
      "Expected fare: 12.262974909950099\n",
      "Max fare: 14.0\n",
      "Offered fare: 15.0\n",
      "Expected fare: 12.275571672771672\n",
      "Max fare: 18.0\n",
      "Offered fare: 8.9\n",
      "Expected fare: 12.33701257472686\n",
      "Max fare: 30.0\n",
      "Offered fare: 5.5\n",
      "Expected fare: 13.48275641025641\n",
      "Max fare: 23.3\n",
      "Offered fare: 13.7\n",
      "Expected fare: 11.35693529810298\n",
      "Max fare: 30.0\n",
      "Offered fare: 35.78\n",
      "Expected fare: 13.959533333333335\n",
      "Max fare: 55.1\n",
      "Offered fare: 16.5\n",
      "Expected fare: 10.809142305407011\n",
      "Max fare: 10.5\n",
      "Offered fare: 19.5\n",
      "Expected fare: 13.118481640953714\n",
      "Max fare: 17.5\n",
      "Offered fare: 10.5\n",
      "Expected fare: 14.580184727840466\n",
      "Max fare: 28.1\n",
      "Offered fare: 7.38\n",
      "Expected fare: 13.77160839160839\n",
      "Max fare: 16.5\n",
      "Offered fare: 15.0\n",
      "Expected fare: 13.690693134171909\n",
      "Max fare: 11.5\n",
      "Offered fare: 17.4\n",
      "Expected fare: 14.293375653082549\n",
      "Max fare: 8.5\n",
      "Offered fare: 8.3\n",
      "Expected fare: 13.066869528619529\n",
      "Max fare: 25.5\n",
      "Offered fare: 29.33\n",
      "Expected fare: 12.343875628994967\n",
      "Max fare: 15.5\n",
      "Offered fare: 6.0\n",
      "Expected fare: 14.880661403508773\n",
      "Max fare: 11.3\n",
      "Offered fare: 13.0\n",
      "Expected fare: 14.754642857142859\n",
      "Max fare: 21.0\n",
      "Offered fare: 12.5\n",
      "Expected fare: 13.67537790240063\n",
      "Max fare: 14.0\n",
      "Offered fare: 7.0\n",
      "Expected fare: 12.21161272061272\n",
      "Max fare: 19.0\n",
      "Offered fare: 15.5\n",
      "Expected fare: 12.123344596273292\n",
      "Max fare: 34.88\n",
      "Offered fare: 8.0\n",
      "Expected fare: 10.939583333333333\n",
      "Max fare: 8.5\n",
      "Offered fare: 7.0\n",
      "Expected fare: 11.81783184889435\n",
      "Max fare: 20.0\n",
      "Offered fare: 14.9\n",
      "Expected fare: 11.337176470588236\n",
      "Max fare: 16.0\n",
      "Offered fare: 8.4\n",
      "Expected fare: 13.216232239982238\n",
      "Max fare: 43.5\n",
      "Offered fare: 5.0\n",
      "Expected fare: 13.471378191776775\n",
      "Max fare: 26.5\n",
      "Offered fare: 8.0\n",
      "Expected fare: 12.032709523809524\n",
      "Max fare: 7.38\n",
      "Offered fare: 10.0\n",
      "Expected fare: 12.262974909950099\n",
      "Max fare: 14.9\n",
      "Offered fare: 3.5\n",
      "Expected fare: 13.946155914446749\n",
      "Max fare: 19.88\n",
      "Offered fare: 13.1\n",
      "Expected fare: 13.223328320802006\n",
      "Max fare: 26.0\n",
      "Offered fare: 20.0\n",
      "Expected fare: 10.764242424242425\n",
      "Max fare: 12.5\n",
      "Offered fare: 6.5\n",
      "Expected fare: 11.31304924924925\n",
      "Max fare: 31.0\n",
      "Offered fare: 11.0\n",
      "Expected fare: 10.585166666666666\n",
      "Max fare: 17.9\n",
      "Offered fare: 18.0\n",
      "Expected fare: 13.267428762414056\n",
      "Max fare: 25.7\n",
      "Offered fare: 20.9\n",
      "Expected fare: 14.580554511278194\n",
      "Max fare: 32.3\n",
      "Offered fare: 9.5\n",
      "Expected fare: 11.241706753812636\n",
      "Max fare: 39.5\n",
      "Offered fare: 8.5\n",
      "Expected fare: 11.989492185208466\n",
      "Max fare: 19.5\n",
      "Offered fare: 5.0\n",
      "Expected fare: 11.113416666666668\n",
      "Max fare: 4.0\n",
      "Offered fare: 23.3\n",
      "Expected fare: 12.473733113746155\n",
      "Max fare: 31.12\n",
      "Offered fare: 15.0\n",
      "Expected fare: 13.34122823403805\n",
      "Max fare: 7.0\n",
      "Offered fare: 7.1\n",
      "Expected fare: 13.6087593837535\n",
      "Max fare: 7.5\n",
      "Offered fare: 11.0\n",
      "Expected fare: 13.16122391987098\n",
      "Max fare: 25.5\n",
      "Offered fare: 22.5\n",
      "Expected fare: 11.563214285714285\n",
      "Max fare: 8.5\n",
      "Offered fare: 7.0\n",
      "Expected fare: 12.308666666666667\n",
      "Max fare: 14.5\n",
      "Offered fare: 10.5\n",
      "Expected fare: 13.18365438091595\n",
      "Max fare: 10.25\n",
      "Offered fare: 14.5\n",
      "Expected fare: 12.719842229199372\n",
      "Max fare: 20.4\n",
      "Offered fare: 13.1\n",
      "Expected fare: 11.970361111111112\n",
      "Max fare: 9.0\n",
      "Offered fare: 6.0\n",
      "Expected fare: 12.739814361885106\n",
      "Max fare: 10.5\n",
      "Offered fare: 62.79\n",
      "Expected fare: 14.318465840840839\n",
      "Max fare: 10.0\n",
      "Offered fare: 17.5\n",
      "Expected fare: 12.976916666666664\n",
      "Max fare: 20.5\n",
      "Offered fare: 25.0\n",
      "Expected fare: 14.102006697408871\n",
      "Max fare: 19.1\n",
      "Offered fare: 27.0\n",
      "Expected fare: 11.69\n",
      "Max fare: 16.0\n",
      "Offered fare: 10.5\n",
      "Expected fare: 15.195614035087718\n",
      "Max fare: 7.0\n",
      "Offered fare: 12.5\n",
      "Expected fare: 13.843245847176082\n",
      "Max fare: 22.8\n",
      "Offered fare: 40.0\n",
      "Expected fare: 11.123083333333334\n",
      "Max fare: 8.5\n",
      "Offered fare: 12.0\n",
      "Expected fare: 14.058253994797472\n",
      "Max fare: 20.0\n",
      "Offered fare: 7.0\n",
      "Expected fare: 10.976380471380471\n",
      "Max fare: 13.5\n",
      "Offered fare: 28.5\n",
      "Expected fare: 12.814201754385966\n",
      "Max fare: 15.0\n",
      "Offered fare: -6.0\n",
      "Expected fare: 13.220832664115273\n",
      "Max fare: 17.3\n",
      "Offered fare: 12.0\n",
      "Expected fare: 12.33701257472686\n",
      "Max fare: 13.1\n",
      "Offered fare: 15.5\n",
      "Expected fare: 11.514500000000002\n",
      "Max fare: 20.65\n",
      "Offered fare: 5.5\n",
      "Expected fare: 12.631206409343399\n",
      "Max fare: 42.5\n",
      "Offered fare: 18.05\n",
      "Expected fare: 12.29699585921325\n",
      "Max fare: 33.6\n",
      "Offered fare: 20.5\n",
      "Expected fare: 12.751341887033997\n",
      "Max fare: 31.12\n",
      "Offered fare: 9.5\n",
      "Expected fare: 11.674166666666668\n",
      "Max fare: 9.0\n",
      "Offered fare: 12.5\n",
      "Expected fare: 12.1075\n",
      "Max fare: 8.9\n",
      "Offered fare: 11.0\n",
      "Expected fare: 10.949602591036415\n",
      "Max fare: 23.5\n",
      "Offered fare: 26.5\n",
      "Expected fare: 15.216066666666668\n",
      "Max fare: 10.5\n",
      "Offered fare: 11.3\n",
      "Expected fare: 12.241695187165774\n",
      "Max fare: 11.9\n",
      "Offered fare: 27.5\n",
      "Expected fare: 14.433629917184266\n",
      "Max fare: 19.8\n",
      "Offered fare: 11.5\n",
      "Expected fare: 12.1075\n",
      "Max fare: 24.0\n",
      "Offered fare: 6.5\n",
      "Expected fare: 11.463688684503902\n",
      "Max fare: 13.5\n",
      "Offered fare: 7.0\n",
      "Expected fare: 12.60553334729957\n",
      "Max fare: 10.5\n",
      "Offered fare: 10.0\n",
      "Expected fare: 12.507291352080827\n",
      "Max fare: 17.0\n",
      "Offered fare: 12.2\n",
      "Expected fare: 12.473733113746155\n",
      "Max fare: 13.0\n",
      "Offered fare: 20.5\n",
      "Expected fare: 13.16149722222222\n",
      "Max fare: 17.9\n",
      "Offered fare: 42.9\n",
      "Expected fare: 12.24614544605721\n",
      "Max fare: 31.1\n",
      "Offered fare: 7.0\n",
      "Expected fare: 14.504380000000001\n",
      "Max fare: 14.0\n",
      "Offered fare: 6.5\n",
      "Expected fare: 13.993783799533801\n",
      "Max fare: 10.1\n",
      "Offered fare: 12.0\n",
      "Expected fare: 12.349761904761905\n",
      "Max fare: 9.0\n",
      "Offered fare: 12.0\n",
      "Expected fare: 12.33701257472686\n",
      "Max fare: 9.5\n",
      "Offered fare: 5.5\n",
      "Expected fare: 12.845676788124157\n",
      "Max fare: 9.5\n",
      "Offered fare: 31.12\n",
      "Expected fare: 12.42047619047619\n",
      "Max fare: 34.0\n",
      "Offered fare: 16.5\n",
      "Expected fare: 13.28860499194847\n",
      "Max fare: 13.5\n",
      "Offered fare: 13.0\n",
      "Expected fare: 15.899949428640042\n",
      "Max fare: 17.0\n",
      "Offered fare: 10.0\n",
      "Expected fare: 11.943333550724637\n",
      "Max fare: 24.0\n",
      "Offered fare: 11.3\n",
      "Expected fare: 13.801805555555555\n",
      "Max fare: 23.3\n"
     ]
    }
   ],
   "source": [
    "ride_choices = []\n",
    "\n",
    "for iter in range(100):\n",
    "    # pick a random dateime and location\n",
    "    trip_data = trip_table_test.iloc[np.random.randint(0, trip_table_test.shape[0],1)[0],:]\n",
    "    next_trip_filter = (trip_table_test.pickup_datetime > \n",
    "                        trip_data.pickup_datetime + datetime.timedelta(seconds=20)) &\\\n",
    "                       (trip_table_test.pickup_nta == trip_data.pickup_nta) &\\\n",
    "                       (trip_table_test.pickup_datetime <= \n",
    "                        trip_data.pickup_datetime + datetime.timedelta(minutes=10))\n",
    "\n",
    "    while sum(next_trip_filter) == 0:\n",
    "        trip_data = trip_table_test.iloc[np.random.randint(0, trip_table_test.shape[0],1)[0],:]\n",
    "        next_trip_filter = (trip_table_test.pickup_datetime > \n",
    "                        trip_data.pickup_datetime + datetime.timedelta(seconds=20)) &\\\n",
    "                       (trip_table_test.pickup_nta == trip_data.pickup_nta) &\\\n",
    "                       (trip_table_test.pickup_datetime <= \n",
    "                        trip_data.pickup_datetime + datetime.timedelta(minutes=10))\n",
    "\n",
    "\n",
    "    tod = datetime_to_tod(pd.to_datetime(trip_data.pickup_datetime))\n",
    "    dow = pd.to_datetime(trip_data.pickup_datetime).weekday()\n",
    "    nta = trip_data.pickup_nta\n",
    "    fare = trip_data.fare\n",
    "\n",
    "    X_test = np.zeros(len(nta_labels))\n",
    "    X_test[nta_labels.index(nta)]\n",
    "    X_test = np.concatenate((list(X_test), [tod, dow])).reshape(1,-1)\n",
    "    expected_fare = m_fare.predict(X_test)[0]\n",
    "\n",
    "    max_fare = trip_table_test.loc[next_trip_filter,'fare'].max()\n",
    "\n",
    "    print('Offered fare: {}\\nExpected fare: {}\\nMax fare: {}'.format(fare, \n",
    "                                                                     expected_fare, \n",
    "                                                                     max_fare))\n",
    "    \n",
    "    if expected_fare > fare: # if we make a decision based on the model\n",
    "        if max_fare >= fare:\n",
    "            ride_choices.append(1)\n",
    "        else:\n",
    "            ride_choices.append(0)"
   ]
  },
  {
   "cell_type": "code",
   "execution_count": 15,
   "metadata": {
    "colab": {
     "base_uri": "https://localhost:8080/",
     "height": 34
    },
    "colab_type": "code",
    "id": "zrb2wv5d7AeE",
    "outputId": "497fe50d-d96f-4111-b702-51af00ba32c2"
   },
   "outputs": [
    {
     "name": "stdout",
     "output_type": "stream",
     "text": [
      "Percentage of right choices: 0.8771929824561403\n"
     ]
    }
   ],
   "source": [
    "print('Percentage of right choices: {}'.format(np.mean(ride_choices)))"
   ]
  }
 ],
 "metadata": {
  "colab": {
   "name": "taxiyield.ipynb",
   "provenance": [],
   "toc_visible": true
  },
  "kernelspec": {
   "display_name": "Python 3",
   "language": "python",
   "name": "python3"
  },
  "language_info": {
   "codemirror_mode": {
    "name": "ipython",
    "version": 3
   },
   "file_extension": ".py",
   "mimetype": "text/x-python",
   "name": "python",
   "nbconvert_exporter": "python",
   "pygments_lexer": "ipython3",
   "version": "3.7.4"
  }
 },
 "nbformat": 4,
 "nbformat_minor": 4
}
