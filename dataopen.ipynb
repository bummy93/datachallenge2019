{
 "cells": [
  {
   "cell_type": "code",
   "execution_count": null,
   "metadata": {
    "colab": {},
    "colab_type": "code",
    "id": "Lkd6vXwXRh6e"
   },
   "outputs": [],
   "source": [
    "import pandas as pd\n",
    "import numpy as np\n",
    "from shapely.geometry import mapping, Polygon, shape\n",
    "import json\n",
    "import collections\n",
    "from tqdm import tqdm\n",
    "import datetime\n",
    "from sklearn.ensemble import RandomForestRegressor"
   ]
  },
  {
   "cell_type": "markdown",
   "metadata": {},
   "source": [
    "# A predictive model to maximize Taxi Driver revenue in NYC"
   ]
  },
  {
   "cell_type": "markdown",
   "metadata": {
    "colab_type": "text",
    "id": "9A7SHISURh6l"
   },
   "source": [
    "## Loading Trip Data\n",
    "For the sake of attepting this challenge within the given amount of time, we only loaded data for gree taxi trips in 2014. However, all the code below extends without loss in generalization to data in 2015 and also to yelow taxi trips"
   ]
  },
  {
   "cell_type": "code",
   "execution_count": null,
   "metadata": {
    "colab": {},
    "colab_type": "code",
    "id": "YqEv6shoRh6v"
   },
   "outputs": [],
   "source": [
    "# load the raw data and transform the data type of 'pickup_datetime'\n",
    "trips_green = pd.read_csv('green_trips.csv.gz')\n",
    "trips_green.pickup_datetime = pd.to_datetime(trips_green.pickup_datetime)"
   ]
  },
  {
   "cell_type": "code",
   "execution_count": 10,
   "metadata": {
    "colab": {
     "base_uri": "https://localhost:8080/",
     "height": 258
    },
    "colab_type": "code",
    "id": "MaVxYavYRh6y",
    "outputId": "ac129b06-b3ee-4b48-d37b-5552bed014fc"
   },
   "outputs": [
    {
     "name": "stderr",
     "output_type": "stream",
     "text": [
      "/usr/local/lib/python3.6/dist-packages/ipykernel_launcher.py:1: FutureWarning: Comparing Series of datetimes with 'datetime.date'.  Currently, the\n",
      "'datetime.date' is coerced to a datetime. In the future pandas will\n",
      "not coerce, and a TypeError will be raised. To retain the current\n",
      "behavior, convert the 'datetime.date' to a datetime with\n",
      "'pd.Timestamp'.\n",
      "  \"\"\"Entry point for launching an IPython kernel.\n",
      "/usr/local/lib/python3.6/dist-packages/pandas/core/generic.py:5096: SettingWithCopyWarning: \n",
      "A value is trying to be set on a copy of a slice from a DataFrame.\n",
      "Try using .loc[row_indexer,col_indexer] = value instead\n",
      "\n",
      "See the caveats in the documentation: http://pandas.pydata.org/pandas-docs/stable/indexing.html#indexing-view-versus-copy\n",
      "  self[name] = value\n"
     ]
    },
    {
     "data": {
      "text/plain": [
       "(1608944, 9)"
      ]
     },
     "execution_count": 10,
     "metadata": {
      "tags": []
     },
     "output_type": "execute_result"
    }
   ],
   "source": [
    "# filter out the 2015 data, so that the data set becomes manageable in size\n",
    "filter_2014 = trips_green.pickup_datetime < datetime.date(2015,1,1)\n",
    "trips_green_2014 = trips_green.loc[filter_2014,:]\n",
    "trips_green_2014.pickup_datetime = pd.to_datetime(trips_green_2014.pickup_datetime)\n",
    "trips_green_2014.shape"
   ]
  },
  {
   "cell_type": "markdown",
   "metadata": {
    "colab_type": "text",
    "id": "DkhLjhKkRh6_"
   },
   "source": [
    "## Create a mapping between pickup/dropoff coordinates and NTAs"
   ]
  },
  {
   "cell_type": "code",
   "execution_count": null,
   "metadata": {
    "colab": {},
    "colab_type": "code",
    "id": "kEBPMaPtRh7D"
   },
   "outputs": [],
   "source": [
    "# just some utility functions for the data wrangling\n",
    "def get_nta(lat, lon, nta_shapefiles):\n",
    "    \"\"\"\n",
    "    given latitude, longitude and a dictionary of shapefiles,\n",
    "    return the corresponding NTA\n",
    "    \"\"\"\n",
    "    point = shape({'coordinates': [lat, lon], 'type':'Point'})\n",
    "    \n",
    "    for nta_code, nta_data in nta_shapefiles.items():\n",
    "        if nta_data['shapefile'].contains(point):\n",
    "            return nta_code\n",
    "    return None\n",
    "\n",
    "def datetime_to_tod(_datetime):\n",
    "    \"\"\"\n",
    "    Transform a given datetime into a time-of-day bin on a scale between 0 and 143\n",
    "    i.e. every one of 24 hours is sliced into 6 bins\n",
    "    \"\"\"\n",
    "    return int(_datetime.hour)*6 + int(_datetime.minute / 10)"
   ]
  },
  {
   "cell_type": "code",
   "execution_count": null,
   "metadata": {
    "colab": {},
    "colab_type": "code",
    "id": "O0PxVoHhRh6i"
   },
   "outputs": [],
   "source": [
    "# load geo-fences for NYC NTAs as a shapefile. The shapefile is available on \n",
    "# https://www1.nyc.gov/site/planning/data-maps/open-data/dwn-nynta.page\n",
    "with open('nta.json') as json_file:\n",
    "    ntas_raw = json.load(json_file)"
   ]
  },
  {
   "cell_type": "code",
   "execution_count": null,
   "metadata": {
    "colab": {},
    "colab_type": "code",
    "id": "hD17OZsaRh7A"
   },
   "outputs": [],
   "source": [
    "# build a dictionary that contains a shapefile and meta information for every NTA\n",
    "nta_shapefiles = collections.defaultdict(dict)\n",
    "for nta_district in ntas_raw['features']:\n",
    "    nta_code = nta_district['properties']['NTACode']\n",
    "    borough_name = nta_district['properties']['BoroName']\n",
    "    borough_code = nta_district['properties']['BoroCode']\n",
    "    geometry = nta_district['geometry']\n",
    "    shapefile = shape(geometry)\n",
    "    nta_shapefiles[nta_code] = {'borough_name': borough_name,\n",
    "                               'borough_code': borough_code,\n",
    "                               'shapefile':shapefile}"
   ]
  },
  {
   "cell_type": "code",
   "execution_count": 13,
   "metadata": {
    "colab": {
     "base_uri": "https://localhost:8080/",
     "height": 394
    },
    "colab_type": "code",
    "id": "RCXlKPg4Rh7H",
    "outputId": "0b446e64-0cc5-4653-fbaa-0bdbac0ca5c7"
   },
   "outputs": [
    {
     "name": "stderr",
     "output_type": "stream",
     "text": [
      "1608944it [53:01, 505.75it/s]\n",
      "/usr/local/lib/python3.6/dist-packages/ipykernel_launcher.py:21: SettingWithCopyWarning: \n",
      "A value is trying to be set on a copy of a slice from a DataFrame.\n",
      "Try using .loc[row_indexer,col_indexer] = value instead\n",
      "\n",
      "See the caveats in the documentation: http://pandas.pydata.org/pandas-docs/stable/indexing.html#indexing-view-versus-copy\n",
      "/usr/local/lib/python3.6/dist-packages/ipykernel_launcher.py:22: SettingWithCopyWarning: \n",
      "A value is trying to be set on a copy of a slice from a DataFrame.\n",
      "Try using .loc[row_indexer,col_indexer] = value instead\n",
      "\n",
      "See the caveats in the documentation: http://pandas.pydata.org/pandas-docs/stable/indexing.html#indexing-view-versus-copy\n",
      "/usr/local/lib/python3.6/dist-packages/ipykernel_launcher.py:23: SettingWithCopyWarning: \n",
      "A value is trying to be set on a copy of a slice from a DataFrame.\n",
      "Try using .loc[row_indexer,col_indexer] = value instead\n",
      "\n",
      "See the caveats in the documentation: http://pandas.pydata.org/pandas-docs/stable/indexing.html#indexing-view-versus-copy\n",
      "/usr/local/lib/python3.6/dist-packages/ipykernel_launcher.py:24: SettingWithCopyWarning: \n",
      "A value is trying to be set on a copy of a slice from a DataFrame.\n",
      "Try using .loc[row_indexer,col_indexer] = value instead\n",
      "\n",
      "See the caveats in the documentation: http://pandas.pydata.org/pandas-docs/stable/indexing.html#indexing-view-versus-copy\n"
     ]
    }
   ],
   "source": [
    "pickup_ntas = []\n",
    "dropoff_ntas = []\n",
    "pickup_tods = []\n",
    "dropoff_dows = []\n",
    "\n",
    "# iterate through the entire dataset to determine NTAs for pickup and dropoff locations,\n",
    "# as well as the time-of-day and day-of-week equivalent to the pickup time\n",
    "for _, trip_data in tqdm(trips_green_2014.iterrows()):\n",
    "    pickup_lat = trip_data.pickup_longitude\n",
    "    pickup_lon = trip_data.pickup_latitude\n",
    "    dropoff_lat = trip_data.dropoff_longitude\n",
    "    dropoff_lon = trip_data.dropoff_latitude\n",
    "    pickup_datetime = trip_data.pickup_datetime\n",
    "    pickup_tod = datetime_to_tod(pickup_datetime)\n",
    "    pickup_dow = pickup_datetime.weekday()\n",
    "    \n",
    "    pickup_tods.append(pickup_tod)\n",
    "    dropoff_dows.append(pickup_dow)    \n",
    "    \n",
    "    pickup_ntas.append(get_nta(pickup_lat, pickup_lon, nta_shapefiles))\n",
    "    dropoff_ntas.append(get_nta(dropoff_lat, dropoff_lon, nta_shapefiles))\n",
    "    \n",
    "trips_green_2014['pickup_nta'] = pickup_ntas\n",
    "trips_green_2014['dropoff_nta'] = dropoff_ntas\n",
    "trips_green_2014['pickup_tod'] = pickup_tods\n",
    "trips_green_2014['pickup_dow'] = dropoff_dows\n",
    "trips_green_2014.to_csv('data/gree_trips_2014.csv')"
   ]
  },
  {
   "cell_type": "markdown",
   "metadata": {},
   "source": [
    "## Clean up the data and set apart a test set\n",
    "Some trips that cound not be matched to an NTA have to be removed from the data set. After that, data from the most recent 30 days is set apart to test the final model."
   ]
  },
  {
   "cell_type": "code",
   "execution_count": null,
   "metadata": {
    "colab": {},
    "colab_type": "code",
    "id": "xKWQhkjkimR_"
   },
   "outputs": [],
   "source": [
    "# remove null values\n",
    "nan_filter = pd.isnull(trips_green_2014).sum(axis=1) == 0\n",
    "trips_green_2014_fare = trips_green_2014.loc[nan_filter, :]\n",
    "trips_green_2014_fare = pd.get_dummies(trips_green_2014_fare.loc[:,['pickup_nta']])\n",
    "nta_labels = [i[2] for i in trips_green_2014_fare.columns.str.split('_') if len(i) == 3]\n",
    "trips_green_2014_fare['pickup_tod'] = trips_green_2014.pickup_tod\n",
    "trips_green_2014_fare['pickup_dow'] = trips_green_2014.pickup_dow\n",
    "trips_green_2014_fare['fare'] = trips_green_2014.total_amount\n",
    "trips_green_2014_fare['pickup_nta'] = trips_green_2014.loc[nan_filter,:].pickup_nta\n",
    "trips_green_2014_fare['pickup_datetime'] = trips_green_2014.loc[nan_filter,:].pickup_datetime"
   ]
  },
  {
   "cell_type": "code",
   "execution_count": null,
   "metadata": {
    "colab": {},
    "colab_type": "code",
    "id": "poWF9Lm-3amT"
   },
   "outputs": [],
   "source": [
    "# set apart a test data set\n",
    "train_filter = trips_green_2014.pickup_datetime <= trips_green_2014.pickup_datetime.max() - datetime.timedelta(days=30)\n",
    "Y_fares_train = np.array(trips_green_2014_fare.loc[train_filter,:].fare).reshape(-1,1)\n",
    "X_fares_train = np.array(trips_green_2014_fare.loc[train_filter, ~trips_green_2014_fare.columns.isin(['fare','pickup_nta','pickup_datetime'])])\n",
    "trip_table_test = trips_green_2014_fare.loc[~train_filter, :]"
   ]
  },
  {
   "cell_type": "markdown",
   "metadata": {},
   "source": [
    "## Build an train a Random Forrest Regression model"
   ]
  },
  {
   "cell_type": "code",
   "execution_count": null,
   "metadata": {
    "colab": {},
    "colab_type": "code",
    "id": "KDXlmgoO3oPX"
   },
   "outputs": [],
   "source": [
    "m_fare = RandomForestRegressor(n_estimators = 10)"
   ]
  },
  {
   "cell_type": "code",
   "execution_count": 23,
   "metadata": {
    "colab": {
     "base_uri": "https://localhost:8080/",
     "height": 190
    },
    "colab_type": "code",
    "id": "2OWw-bKF3qtt",
    "outputId": "2c10e1b5-6c76-4fda-806f-c6b0a899d62b"
   },
   "outputs": [
    {
     "name": "stderr",
     "output_type": "stream",
     "text": [
      "/usr/local/lib/python3.6/dist-packages/ipykernel_launcher.py:1: DataConversionWarning: A column-vector y was passed when a 1d array was expected. Please change the shape of y to (n_samples,), for example using ravel().\n",
      "  \"\"\"Entry point for launching an IPython kernel.\n"
     ]
    },
    {
     "data": {
      "text/plain": [
       "RandomForestRegressor(bootstrap=True, criterion='mse', max_depth=None,\n",
       "                      max_features='auto', max_leaf_nodes=None,\n",
       "                      min_impurity_decrease=0.0, min_impurity_split=None,\n",
       "                      min_samples_leaf=1, min_samples_split=2,\n",
       "                      min_weight_fraction_leaf=0.0, n_estimators=10,\n",
       "                      n_jobs=None, oob_score=False, random_state=None,\n",
       "                      verbose=0, warm_start=False)"
      ]
     },
     "execution_count": 23,
     "metadata": {
      "tags": []
     },
     "output_type": "execute_result"
    }
   ],
   "source": [
    "m_fare.fit(X_fares_train, Y_fares_train)"
   ]
  },
  {
   "cell_type": "markdown",
   "metadata": {},
   "source": [
    "## Simulate the model on the test data"
   ]
  },
  {
   "cell_type": "code",
   "execution_count": 39,
   "metadata": {
    "colab": {
     "base_uri": "https://localhost:8080/",
     "height": 1000
    },
    "colab_type": "code",
    "id": "z_SXZ6YR3-v5",
    "outputId": "667736b9-bcb4-42c5-b8df-af8adc5fc90b"
   },
   "outputs": [
    {
     "name": "stdout",
     "output_type": "stream",
     "text": [
      "Offered fare: 7.7\n",
      "Expected fare: 14.804374613758336\n",
      "Max fare: 10.0\n",
      "Offered fare: 13.5\n",
      "Expected fare: 13.386580808080808\n",
      "Max fare: 16.0\n",
      "Offered fare: 8.0\n",
      "Expected fare: 14.637808403361344\n",
      "Max fare: 7.38\n",
      "Offered fare: 6.5\n",
      "Expected fare: 14.470107964980937\n",
      "Max fare: 13.1\n",
      "Offered fare: 16.0\n",
      "Expected fare: 14.282000000000002\n",
      "Max fare: 13.7\n",
      "Offered fare: 9.0\n",
      "Expected fare: 11.259907142857141\n",
      "Max fare: 40.33\n",
      "Offered fare: 6.0\n",
      "Expected fare: 12.49248888888889\n",
      "Max fare: 23.5\n",
      "Offered fare: 11.0\n",
      "Expected fare: 13.074313961988304\n",
      "Max fare: 7.0\n",
      "Offered fare: 13.1\n",
      "Expected fare: 13.233095238095236\n",
      "Max fare: 57.83\n",
      "Offered fare: 5.9\n",
      "Expected fare: 12.352875213675215\n",
      "Max fare: 33.0\n",
      "Offered fare: 7.5\n",
      "Expected fare: 13.632751515151517\n",
      "Max fare: 28.5\n",
      "Offered fare: 12.0\n",
      "Expected fare: 11.241211038961039\n",
      "Max fare: 19.7\n",
      "Offered fare: 5.5\n",
      "Expected fare: 12.24625\n",
      "Max fare: 26.0\n",
      "Offered fare: 18.5\n",
      "Expected fare: 13.049913725490194\n",
      "Max fare: 21.0\n",
      "Offered fare: 10.2\n",
      "Expected fare: 11.9525\n",
      "Max fare: 19.1\n",
      "Offered fare: 11.0\n",
      "Expected fare: 11.2075\n",
      "Max fare: 26.5\n",
      "Offered fare: 26.3\n",
      "Expected fare: 15.392126713539374\n",
      "Max fare: 27.0\n",
      "Offered fare: 9.5\n",
      "Expected fare: 13.978512840568854\n",
      "Max fare: 40.5\n",
      "Offered fare: 7.1\n",
      "Expected fare: 13.15318431372549\n",
      "Max fare: 8.3\n",
      "Offered fare: 16.0\n",
      "Expected fare: 14.268429437229438\n",
      "Max fare: 9.5\n",
      "Offered fare: 9.5\n",
      "Expected fare: 12.205189012226512\n",
      "Max fare: 14.3\n",
      "Offered fare: 7.0\n",
      "Expected fare: 13.34360606060606\n",
      "Max fare: 8.0\n",
      "Offered fare: 31.12\n",
      "Expected fare: 13.232220118544248\n",
      "Max fare: 14.8\n",
      "Offered fare: 6.5\n",
      "Expected fare: 12.716581818181819\n",
      "Max fare: 18.5\n",
      "Offered fare: 9.0\n",
      "Expected fare: 13.290016241879062\n",
      "Max fare: 21.0\n",
      "Offered fare: 20.5\n",
      "Expected fare: 14.91217338010514\n",
      "Max fare: 30.5\n",
      "Offered fare: 12.0\n",
      "Expected fare: 13.794809269162212\n",
      "Max fare: 26.3\n",
      "Offered fare: 12.0\n",
      "Expected fare: 13.456867671315042\n",
      "Max fare: 26.0\n",
      "Offered fare: 36.6\n",
      "Expected fare: 15.103313157894737\n",
      "Max fare: 37.5\n",
      "Offered fare: 10.0\n",
      "Expected fare: 13.66022636755287\n",
      "Max fare: 11.5\n",
      "Offered fare: 8.5\n",
      "Expected fare: 11.977738095238093\n",
      "Max fare: 13.1\n",
      "Offered fare: 26.0\n",
      "Expected fare: 14.604614891774892\n",
      "Max fare: 17.5\n",
      "Offered fare: 15.0\n",
      "Expected fare: 12.217894934333959\n",
      "Max fare: 22.1\n",
      "Offered fare: 4.5\n",
      "Expected fare: 11.932523809523811\n",
      "Max fare: 4.0\n",
      "Offered fare: 13.0\n",
      "Expected fare: 11.9525\n",
      "Max fare: 14.0\n",
      "Offered fare: 44.0\n",
      "Expected fare: 10.86425\n",
      "Max fare: 13.0\n",
      "Offered fare: 16.1\n",
      "Expected fare: 13.646413324754281\n",
      "Max fare: 10.0\n",
      "Offered fare: 12.0\n",
      "Expected fare: 12.373858225108226\n",
      "Max fare: 24.0\n",
      "Offered fare: 9.5\n",
      "Expected fare: 11.241211038961039\n",
      "Max fare: 6.5\n",
      "Offered fare: 9.5\n",
      "Expected fare: 12.93458621543929\n",
      "Max fare: 8.3\n",
      "Offered fare: 8.4\n",
      "Expected fare: 13.235151831501833\n",
      "Max fare: 9.0\n",
      "Offered fare: 19.0\n",
      "Expected fare: 13.225152995289022\n",
      "Max fare: 37.33\n",
      "Offered fare: 13.2\n",
      "Expected fare: 13.527714285714286\n",
      "Max fare: 31.12\n",
      "Offered fare: 26.9\n",
      "Expected fare: 14.48511352657005\n",
      "Max fare: 8.5\n",
      "Offered fare: 13.5\n",
      "Expected fare: 13.325086367880488\n",
      "Max fare: 33.5\n",
      "Offered fare: 10.0\n",
      "Expected fare: 13.4564140408611\n",
      "Max fare: 17.5\n",
      "Offered fare: 6.5\n",
      "Expected fare: 14.4215\n",
      "Max fare: 6.5\n",
      "Offered fare: 28.7\n",
      "Expected fare: 13.20348326585695\n",
      "Max fare: 37.1\n",
      "Offered fare: 6.5\n",
      "Expected fare: 13.468385946686368\n",
      "Max fare: 33.75\n",
      "Offered fare: 8.0\n",
      "Expected fare: 13.562009959123003\n",
      "Max fare: 15.45\n",
      "Offered fare: 15.6\n",
      "Expected fare: 13.501282051282052\n",
      "Max fare: 51.0\n",
      "Offered fare: 8.95\n",
      "Expected fare: 11.490238095238094\n",
      "Max fare: 7.0\n",
      "Offered fare: 8.0\n",
      "Expected fare: 14.268429437229438\n",
      "Max fare: 9.5\n",
      "Offered fare: 27.15\n",
      "Expected fare: 13.761670404984423\n",
      "Max fare: 17.9\n",
      "Offered fare: 4.5\n",
      "Expected fare: 14.282000000000002\n",
      "Max fare: 11.5\n",
      "Offered fare: 32.0\n",
      "Expected fare: 14.259450051759833\n",
      "Max fare: 58.0\n",
      "Offered fare: 16.0\n",
      "Expected fare: 10.904367696489912\n",
      "Max fare: 24.6\n",
      "Offered fare: 6.0\n",
      "Expected fare: 11.532400584795322\n",
      "Max fare: 41.9\n",
      "Offered fare: 9.5\n",
      "Expected fare: 11.886875\n",
      "Max fare: 25.0\n",
      "Offered fare: 11.0\n",
      "Expected fare: 14.486469941822884\n",
      "Max fare: 16.83\n",
      "Offered fare: 22.0\n",
      "Expected fare: 12.057058982683984\n",
      "Max fare: 32.9\n",
      "Offered fare: 18.5\n",
      "Expected fare: 12.385753968253969\n",
      "Max fare: 16.3\n",
      "Offered fare: 34.1\n",
      "Expected fare: 13.139375000000001\n",
      "Max fare: 38.5\n",
      "Offered fare: 10.0\n",
      "Expected fare: 16.600355578840873\n",
      "Max fare: 25.1\n",
      "Offered fare: 7.0\n",
      "Expected fare: 11.564214285714286\n",
      "Max fare: 8.5\n",
      "Offered fare: 5.0\n",
      "Expected fare: 10.065636363636363\n",
      "Max fare: 31.0\n",
      "Offered fare: 11.0\n",
      "Expected fare: 14.001094158640669\n",
      "Max fare: 38.33\n",
      "Offered fare: 21.0\n",
      "Expected fare: 11.134833333333333\n",
      "Max fare: 12.5\n",
      "Offered fare: 15.5\n",
      "Expected fare: 10.904367696489912\n",
      "Max fare: 14.8\n",
      "Offered fare: 19.5\n",
      "Expected fare: 11.769764423076925\n",
      "Max fare: 20.0\n",
      "Offered fare: 5.5\n",
      "Expected fare: 15.204581665431183\n",
      "Max fare: 38.0\n",
      "Offered fare: 6.0\n",
      "Expected fare: 13.795705847399912\n",
      "Max fare: 12.5\n",
      "Offered fare: 18.0\n",
      "Expected fare: 12.15345670995671\n",
      "Max fare: 35.0\n",
      "Offered fare: 15.0\n",
      "Expected fare: 13.325086367880488\n",
      "Max fare: 22.5\n",
      "Offered fare: 17.0\n",
      "Expected fare: 13.487896503496504\n",
      "Max fare: 10.5\n",
      "Offered fare: 11.5\n",
      "Expected fare: 10.86425\n",
      "Max fare: 35.0\n",
      "Offered fare: 19.0\n",
      "Expected fare: 14.499752653061226\n",
      "Max fare: 17.9\n",
      "Offered fare: 5.0\n",
      "Expected fare: 12.866688956433638\n",
      "Max fare: 13.7\n",
      "Offered fare: 12.0\n",
      "Expected fare: 12.191330668604651\n",
      "Max fare: 22.0\n",
      "Offered fare: 0.0\n",
      "Expected fare: 12.903194444444443\n",
      "Max fare: 14.0\n",
      "Offered fare: 19.1\n",
      "Expected fare: 15.103313157894737\n",
      "Max fare: 14.5\n",
      "Offered fare: 7.7\n",
      "Expected fare: 13.306517637184132\n",
      "Max fare: 7.0\n",
      "Offered fare: 8.3\n",
      "Expected fare: 14.48511352657005\n",
      "Max fare: 12.5\n",
      "Offered fare: 8.5\n",
      "Expected fare: 13.384158730158731\n",
      "Max fare: 5.5\n",
      "Offered fare: 9.0\n",
      "Expected fare: 12.15345670995671\n",
      "Max fare: 7.0\n",
      "Offered fare: 10.5\n",
      "Expected fare: 13.19431954045954\n",
      "Max fare: 15.5\n",
      "Offered fare: 9.88\n",
      "Expected fare: 11.658198564593302\n",
      "Max fare: 14.5\n",
      "Offered fare: 12.0\n",
      "Expected fare: 13.794809269162212\n",
      "Max fare: 10.5\n",
      "Offered fare: 16.5\n",
      "Expected fare: 12.265121148876961\n",
      "Max fare: 20.0\n",
      "Offered fare: 10.0\n",
      "Expected fare: 12.368141666666666\n",
      "Max fare: 12.5\n",
      "Offered fare: 7.5\n",
      "Expected fare: 11.427345238095238\n",
      "Max fare: 27.5\n",
      "Offered fare: 7.5\n",
      "Expected fare: 13.644409857503609\n",
      "Max fare: 18.0\n",
      "Offered fare: 18.5\n",
      "Expected fare: 13.938937406699583\n",
      "Max fare: 22.5\n",
      "Offered fare: 11.0\n",
      "Expected fare: 10.320284313725491\n",
      "Max fare: 12.0\n",
      "Offered fare: 9.0\n",
      "Expected fare: 13.425617647058823\n",
      "Max fare: 22.2\n",
      "Offered fare: 10.0\n",
      "Expected fare: 12.225108086917563\n",
      "Max fare: 31.0\n",
      "Offered fare: 6.5\n",
      "Expected fare: 12.681145833333332\n",
      "Max fare: 25.0\n",
      "Offered fare: 20.5\n",
      "Expected fare: 12.857912397660817\n",
      "Max fare: 32.3\n",
      "Offered fare: 16.0\n",
      "Expected fare: 13.398261340722652\n",
      "Max fare: 34.0\n",
      "Offered fare: 10.0\n",
      "Expected fare: 12.771928571428571\n",
      "Max fare: 11.3\n"
     ]
    }
   ],
   "source": [
    "ride_choices = []\n",
    "\n",
    "for iter in range(100):\n",
    "    # pick a random dateime and location\n",
    "    trip_data = trip_table_test.iloc[np.random.randint(0, trip_table_test.shape[0],1)[0],:]\n",
    "    next_trip_filter = (trip_table_test.pickup_datetime > \n",
    "                        trip_data.pickup_datetime + datetime.timedelta(seconds=20)) &\\\n",
    "                       (trip_table_test.pickup_nta == trip_data.pickup_nta) &\\\n",
    "                       (trip_table_test.pickup_datetime <= \n",
    "                        trip_data.pickup_datetime + datetime.timedelta(minutes=10))\n",
    "\n",
    "    while sum(next_trip_filter) == 0:\n",
    "        trip_data = trip_table_test.iloc[np.random.randint(0, trip_table_test.shape[0],1)[0],:]\n",
    "        next_trip_filter = (trip_table_test.pickup_datetime > \n",
    "                        trip_data.pickup_datetime + datetime.timedelta(seconds=20)) &\\\n",
    "                       (trip_table_test.pickup_nta == trip_data.pickup_nta) &\\\n",
    "                       (trip_table_test.pickup_datetime <= \n",
    "                        trip_data.pickup_datetime + datetime.timedelta(minutes=10))\n",
    "\n",
    "\n",
    "    tod = datetime_to_tod(pd.to_datetime(trip_data.pickup_datetime))\n",
    "    dow = pd.to_datetime(trip_data.pickup_datetime).weekday()\n",
    "    nta = trip_data.pickup_nta\n",
    "    fare = trip_data.fare\n",
    "\n",
    "    X_test = np.zeros(len(nta_labels))\n",
    "    X_test[nta_labels.index(nta)]\n",
    "    X_test = np.concatenate((list(X_test), [tod, dow])).reshape(1,-1)\n",
    "    expected_fare = m_fare.predict(X_test)[0]\n",
    "\n",
    "    max_fare = trip_table_test.loc[next_trip_filter,'fare'].max()\n",
    "\n",
    "    print('Offered fare: {}\\nExpected fare: {}\\nMax fare: {}'.format(fare, \n",
    "                                                                     expected_fare, \n",
    "                                                                     max_fare))\n",
    "    \n",
    "    if expected_fare > fare: # if we make a decision based on the model\n",
    "        if max_fare >= fare:\n",
    "            ride_choices.append(1)\n",
    "        else:\n",
    "            ride_choices.append(0)"
   ]
  },
  {
   "cell_type": "code",
   "execution_count": 41,
   "metadata": {
    "colab": {
     "base_uri": "https://localhost:8080/",
     "height": 34
    },
    "colab_type": "code",
    "id": "zrb2wv5d7AeE",
    "outputId": "497fe50d-d96f-4111-b702-51af00ba32c2"
   },
   "outputs": [
    {
     "name": "stdout",
     "output_type": "stream",
     "text": [
      "Percentage of right choices: 0.8360655737704918\n"
     ]
    }
   ],
   "source": [
    "print('Percentage of right choices: {}'.format(np.mean(ride_choices)))"
   ]
  }
 ],
 "metadata": {
  "colab": {
   "name": "taxiyield.ipynb",
   "provenance": [],
   "toc_visible": true
  },
  "kernelspec": {
   "display_name": "Python 3",
   "language": "python",
   "name": "python3"
  },
  "language_info": {
   "codemirror_mode": {
    "name": "ipython",
    "version": 3
   },
   "file_extension": ".py",
   "mimetype": "text/x-python",
   "name": "python",
   "nbconvert_exporter": "python",
   "pygments_lexer": "ipython3",
   "version": "3.7.4"
  }
 },
 "nbformat": 4,
 "nbformat_minor": 4
}
